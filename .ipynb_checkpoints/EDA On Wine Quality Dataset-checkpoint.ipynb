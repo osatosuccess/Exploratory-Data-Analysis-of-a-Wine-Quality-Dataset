{
 "cells": [
  {
   "cell_type": "markdown",
   "id": "522abd60",
   "metadata": {},
   "source": [
    "# Exploratory Data Analysis On Wine Quality With Numpy\n",
    "\n",
    "\n",
    "## Import Numpy\n"
   ]
  },
  {
   "cell_type": "code",
   "execution_count": 2,
   "id": "a9d36943",
   "metadata": {},
   "outputs": [],
   "source": [
    "import numpy as np"
   ]
  },
  {
   "cell_type": "markdown",
   "id": "da8b1855",
   "metadata": {},
   "source": [
    "## Import Dataset"
   ]
  },
  {
   "cell_type": "code",
   "execution_count": 4,
   "id": "6316134b",
   "metadata": {},
   "outputs": [],
   "source": [
    "# import wine dataset into numpy\n",
    "wines = np.genfromtxt('./WineQT.csv',\n",
    "                      comments=\"A wine quality dataset\",\n",
    "                      delimiter=\",\",\n",
    "                      skip_header=1,\n",
    "                      dtype=np.int32)"
   ]
  },
  {
   "cell_type": "markdown",
   "id": "b54265c0",
   "metadata": {},
   "source": [
    "\n",
    "## Understand The Data"
   ]
  },
  {
   "cell_type": "code",
   "execution_count": 36,
   "id": "c527bad8",
   "metadata": {},
   "outputs": [
    {
     "name": "stdout",
     "output_type": "stream",
     "text": [
      "The shape of the wine dataset is: (1143, 13)\n",
      "The dimension of the wine dataset is: 2\n"
     ]
    }
   ],
   "source": [
    "print(\"The shape of the wine dataset is:\",wines.shape)\n",
    "print(\"The dimension of the wine dataset is:\",wines.ndim)"
   ]
  },
  {
   "cell_type": "markdown",
   "id": "ed2ac835",
   "metadata": {},
   "source": [
    "## Return The First 10 Rows Of The Dataset\n",
    "\n"
   ]
  },
  {
   "cell_type": "code",
   "execution_count": 17,
   "id": "3e3a57a6",
   "metadata": {},
   "outputs": [
    {
     "name": "stdout",
     "output_type": "stream",
     "text": [
      "Display: \n",
      ") [[ 7  0  0  1  0 11 34  0  3  0  9  5  0]\n",
      " [ 7  0  0  2  0 25 67  0  3  0  9  5  1]\n",
      " [ 7  0  0  2  0 15 54  0  3  0  9  5  2]\n",
      " [11  0  0  1  0 17 60  0  3  0  9  6  3]\n",
      " [ 7  0  0  1  0 11 34  0  3  0  9  5  4]\n",
      " [ 7  0  0  1  0 13 40  0  3  0  9  5  5]\n",
      " [ 7  0  0  1  0 15 59  0  3  0  9  5  6]\n",
      " [ 7  0  0  1  0 15 21  0  3  0 10  7  7]\n",
      " [ 7  0  0  2  0  9 18  0  3  0  9  7  8]\n",
      " [ 6  0  0  1  0 15 65  0  3  0  9  5 10]\n",
      " [ 5  0  0  1  0 16 59  0  3  0  9  5 12]]\n"
     ]
    }
   ],
   "source": [
    "#display the first 10 rows\n",
    "first_ten_rows = wines[0:11]\n",
    "print (\"Display: \\n)\", first_ten_rows)\n"
   ]
  },
  {
   "cell_type": "markdown",
   "id": "c05d35f2",
   "metadata": {},
   "source": [
    "## Return The 12th Column Of The Dataset"
   ]
  },
  {
   "cell_type": "code",
   "execution_count": 18,
   "id": "efcd0b3c",
   "metadata": {},
   "outputs": [
    {
     "name": "stdout",
     "output_type": "stream",
     "text": [
      "Display:\n",
      " [5 5 5 ... 5 6 5]\n"
     ]
    }
   ],
   "source": [
    "#Display the 12th column\n",
    "twelveth_column = wines[:,11] \n",
    "print(\"Display:\\n\", twelveth_column)"
   ]
  },
  {
   "cell_type": "markdown",
   "id": "eefa2a02",
   "metadata": {},
   "source": [
    "## The Sum of all the Elements Between Column 1 to 10"
   ]
  },
  {
   "cell_type": "code",
   "execution_count": 21,
   "id": "1a6b0e70",
   "metadata": {},
   "outputs": [
    {
     "name": "stdout",
     "output_type": "stream",
     "text": [
      "summation: 87680\n"
     ]
    }
   ],
   "source": [
    "one_to_ten_col = wines[:,1:11].sum()\n",
    "print (\"summation:\", one_to_ten_col)"
   ]
  },
  {
   "cell_type": "markdown",
   "id": "2210ef7c",
   "metadata": {},
   "source": [
    "## Mean Of The Array"
   ]
  },
  {
   "cell_type": "code",
   "execution_count": 23,
   "id": "e82e39f9",
   "metadata": {},
   "outputs": [
    {
     "name": "stdout",
     "output_type": "stream",
     "text": [
      "Mean value: 68.86163268053032\n"
     ]
    }
   ],
   "source": [
    "mean_of_wines =wines.mean()\n",
    "print(\"Mean value:\", mean_of_wines)"
   ]
  },
  {
   "cell_type": "markdown",
   "id": "7ec3cc02",
   "metadata": {},
   "source": [
    "## Standard Deviation of the Array"
   ]
  },
  {
   "cell_type": "code",
   "execution_count": 24,
   "id": "d58bf131",
   "metadata": {},
   "outputs": [
    {
     "name": "stdout",
     "output_type": "stream",
     "text": [
      "standard Deviation: 248.87134655790663\n"
     ]
    }
   ],
   "source": [
    "std_dev =wines.std()\n",
    "print('standard Deviation:',std_dev)"
   ]
  },
  {
   "cell_type": "markdown",
   "id": "ea226017",
   "metadata": {},
   "source": [
    "## Minimum Value Of The Array"
   ]
  },
  {
   "cell_type": "code",
   "execution_count": 25,
   "id": "8d67623d",
   "metadata": {},
   "outputs": [
    {
     "name": "stdout",
     "output_type": "stream",
     "text": [
      "Minimium value: 0\n"
     ]
    }
   ],
   "source": [
    "min_value = wines.min()\n",
    "print(\"Minimium value:\", min_value)"
   ]
  },
  {
   "cell_type": "markdown",
   "id": "9b3df79c",
   "metadata": {},
   "source": [
    "## Maximum  Value Of The Array"
   ]
  },
  {
   "cell_type": "code",
   "execution_count": 26,
   "id": "866fe149",
   "metadata": {},
   "outputs": [
    {
     "name": "stdout",
     "output_type": "stream",
     "text": [
      "Maximum value: 1597\n"
     ]
    }
   ],
   "source": [
    "max_value = wines.max()\n",
    "print(\"Maximum value:\", max_value)"
   ]
  },
  {
   "cell_type": "markdown",
   "id": "b61344b4",
   "metadata": {},
   "source": [
    "## Where the Quality of Wine is Higher Than 5"
   ]
  },
  {
   "cell_type": "code",
   "execution_count": 31,
   "id": "bbc8a1a7",
   "metadata": {},
   "outputs": [
    {
     "name": "stdout",
     "output_type": "stream",
     "text": [
      "Original column: [5 5 5 ... 5 6 5]\n",
      "Quality greater than 5: [6 7 7 7 6 6 6 6 6 7 6 6 6 6 6 6 6 6 6 6 6 6 6 6 6 6 6 7 6 6 6 6 6 6 6 6 6\n",
      " 6 6 6 6 6 7 6 7 7 6 6 6 6 6 6 6 7 6 6 6 6 6 6 7 7 6 6 6 6 7 8 6 6 6 6 6 6\n",
      " 8 7 6 7 7 6 6 7 7 6 6 6 6 6 6 6 6 6 7 6 6 6 7 6 7 7 6 7 6 6 6 6 6 6 6 6 7\n",
      " 7 6 6 7 7 7 6 6 6 7 6 6 6 8 6 7 6 6 6 6 7 6 7 6 6 7 7 7 6 6 6 7 6 6 6 8 7\n",
      " 7 6 6 6 6 7 8 6 6 6 6 6 6 6 6 6 8 6 6 7 7 6 6 8 6 8 6 6 7 7 7 7 7 6 7 6 6\n",
      " 7 7 6 6 6 6 6 6 6 6 7 6 6 6 6 6 6 6 6 6 6 6 6 6 6 6 6 6 6 7 8 6 6 6 6 6 6\n",
      " 6 6 6 6 6 6 6 7 6 6 7 6 6 6 6 6 6 6 6 6 6 6 6 6 6 6 6 6 6 6 6 6 6 6 6 6 6\n",
      " 6 6 6 6 6 6 6 6 6 6 6 6 6 7 6 7 6 6 7 6 6 6 7 7 6 7 7 7 6 6 6 6 6 7 7 7 6\n",
      " 6 6 6 6 6 6 6 6 7 6 7 7 7 7 6 6 6 6 6 6 6 6 6 6 7 6 7 6 6 7 7 7 7 7 7 7 7\n",
      " 7 7 6 7 6 6 6 6 7 7 6 6 6 6 6 6 6 6 7 7 7 7 7 7 6 6 6 7 6 6 6 6 7 6 6 7 6\n",
      " 7 7 7 6 6 6 6 6 6 6 7 6 7 7 7 6 8 6 6 6 6 7 7 7 6 6 7 7 6 6 7 6 7 7 8 6 6\n",
      " 7 6 6 6 6 6 6 7 6 6 7 6 6 6 6 6 6 8 6 7 6 6 7 7 7 6 6 6 6 6 6 6 6 6 7 6 6\n",
      " 6 6 7 7 7 7 6 6 6 6 6 6 6 6 6 7 6 6 6 6 6 6 7 8 7 7 7 7 6 6 6 6 6 6 6 6 7\n",
      " 6 6 6 6 6 6 6 6 6 6 6 6 6 6 6 6 6 6 7 6 6 6 6 6 6 6 6 6 6 6 6 6 6 6 6 6 6\n",
      " 6 6 6 6 6 6 6 6 6 6 6 6 6 6 6 6 6 6 6 6 6 6 6 6 6 6 8 6 6 6 7 6 6 6 6 7 6\n",
      " 6 7 6 6 6 8 7 7 7 6 6 7 6 6 7 7 6 7 7 6 7 6 6 6 6 6 6 6 6 6 6 6 6 6 6 6 6\n",
      " 6 7 6 6 7 6 8 6 7 6 6 6 6 6 6 6 6 6 6 6 6 7 6 6 6 6 6 6 6]\n",
      "Total Numbers 621\n"
     ]
    }
   ],
   "source": [
    "quality_rating_col = wines[:,-2] #boolarray\n",
    "quality_rating_greater_than_5 = quality_rating_col > 5\n",
    "display = quality_rating_col[quality_rating_greater_than_5]\n",
    "print(\"Original column:\",quality_rating_col)\n",
    "print(\"Quality greater than 5:\",display)\n",
    "#find the total numbers of quality rating greater than 5\n",
    "print(\"Total Numbers\",display.size)"
   ]
  },
  {
   "cell_type": "markdown",
   "id": "0e2f32e0",
   "metadata": {},
   "source": [
    "## Where the Quality of Wine is Equal to 10"
   ]
  },
  {
   "cell_type": "code",
   "execution_count": 38,
   "id": "3cd75cd9",
   "metadata": {},
   "outputs": [
    {
     "name": "stdout",
     "output_type": "stream",
     "text": [
      "Original column: [5 5 5 ... 5 6 5]\n",
      "quality greater than 5: []\n",
      "No wine quality found\n"
     ]
    }
   ],
   "source": [
    "def send_message(data):\n",
    "    if len(data) == 0:\n",
    "        print(\"No wine quality found\")\n",
    "    else:\n",
    "        print(f\"The total of {len(data)}quality rating is found greater than 10\")\n",
    "    \n",
    "\n",
    "quality_rating_col = wines[:,-2]#Original column\n",
    "quality_rating_equal_10 = quality_rating_col == 10 #boolean array\n",
    "display = quality_rating_col[quality_rating_equal_10]\n",
    "\n",
    "print(\"Original column:\", quality_rating_col)\n",
    "print(\"quality greater than 5:\",display)\n",
    "\n",
    "#call function\n",
    "send_message(display)"
   ]
  },
  {
   "cell_type": "markdown",
   "id": "c16cd54e",
   "metadata": {},
   "source": [
    "## Find where the quality rating is greater than 5 and the alcohol rating is greater than 7"
   ]
  },
  {
   "cell_type": "code",
   "execution_count": 9,
   "id": "f3b08001",
   "metadata": {},
   "outputs": [
    {
     "data": {
      "text/plain": [
       "array([[  11,    0,    0, ...,    9,    6,    3],\n",
       "       [   7,    0,    0, ...,   10,    7,    7],\n",
       "       [   7,    0,    0, ...,    9,    7,    8],\n",
       "       ...,\n",
       "       [   6,    0,    0, ...,   11,    6, 1592],\n",
       "       [   6,    0,    0, ...,    9,    6, 1593],\n",
       "       [   5,    0,    0, ...,   11,    6, 1595]])"
      ]
     },
     "execution_count": 9,
     "metadata": {},
     "output_type": "execute_result"
    }
   ],
   "source": [
    "quality_greater_than_5_and_alcohol_greater_than_7 = (wines [:,-2] > 5) & (wines [:,-3] > 7)\n",
    "wines[quality_greater_than_5_and_alcohol_greater_than_7]"
   ]
  },
  {
   "cell_type": "code",
   "execution_count": null,
   "id": "2495023e",
   "metadata": {},
   "outputs": [],
   "source": []
  }
 ],
 "metadata": {
  "kernelspec": {
   "display_name": "Python 3 (ipykernel)",
   "language": "python",
   "name": "python3"
  },
  "language_info": {
   "codemirror_mode": {
    "name": "ipython",
    "version": 3
   },
   "file_extension": ".py",
   "mimetype": "text/x-python",
   "name": "python",
   "nbconvert_exporter": "python",
   "pygments_lexer": "ipython3",
   "version": "3.9.13"
  }
 },
 "nbformat": 4,
 "nbformat_minor": 5
}
